{
 "cells": [
  {
   "cell_type": "markdown",
   "id": "1b8c7b46",
   "metadata": {},
   "source": [
    "<h1>Operator pada phyton</h1><hr>\n",
    "<h3>1. Operator aritmatika</h3>"
   ]
  },
  {
   "cell_type": "code",
   "execution_count": 2,
   "id": "60f3e397",
   "metadata": {},
   "outputs": [
    {
     "name": "stdout",
     "output_type": "stream",
     "text": [
      "27\n",
      "13\n",
      "140\n",
      "2.857142857142857\n",
      "2\n",
      "1280000000\n",
      "6\n"
     ]
    }
   ],
   "source": [
    "num1 = 20\n",
    "num2 = 7\n",
    "\n",
    "hasil_jumlah = num1 + num2\n",
    "hasil_kurang = num1 - num2\n",
    "hasil_kali = num1 * num2\n",
    "hasil_bagi=  num1 / num2\n",
    "hasil_bagi_bulat = num1 // num2\n",
    "hasil_pangkat = num1 ** num2\n",
    "hasil_modulus = num1 % num2\n",
    "\n",
    "print (hasil_jumlah)\n",
    "print(hasil_kurang)\n",
    "print(hasil_kali)\n",
    "print(hasil_bagi)\n",
    "print(hasil_bagi_bulat)\n",
    "print(hasil_pangkat)\n",
    "print(hasil_modulus)\n"
   ]
  },
  {
   "cell_type": "markdown",
   "id": "7c00a958",
   "metadata": {},
   "source": [
    "<h3>2. Operator Penugasan </h3>"
   ]
  },
  {
   "cell_type": "code",
   "execution_count": 15,
   "id": "bba5fad1",
   "metadata": {
    "scrolled": true
   },
   "outputs": [
    {
     "name": "stdout",
     "output_type": "stream",
     "text": [
      "10\n",
      "15\n",
      "13\n",
      "78\n",
      "39.0\n",
      "9.0\n",
      "4782969.0\n"
     ]
    }
   ],
   "source": [
    "x = 10\n",
    "print(x) #10\n",
    "x += 5\n",
    "print(x) #15\n",
    "x -= 2\n",
    "print(x) #13\n",
    "x *= 6\n",
    "print(x) #78\n",
    "x /= 2\n",
    "print(x)\n",
    "x //= 4\n",
    "print(x)\n",
    "x **= 7\n",
    "print(x)\n",
    "x %= 8"
   ]
  },
  {
   "cell_type": "code",
   "execution_count": 12,
   "id": "5fe257fb",
   "metadata": {},
   "outputs": [
    {
     "ename": "SyntaxError",
     "evalue": "invalid syntax (3025001469.py, line 3)",
     "output_type": "error",
     "traceback": [
      "\u001b[1;36m  Input \u001b[1;32mIn [12]\u001b[1;36m\u001b[0m\n\u001b[1;33m    for in range(0,4)\u001b[0m\n\u001b[1;37m        ^\u001b[0m\n\u001b[1;31mSyntaxError\u001b[0m\u001b[1;31m:\u001b[0m invalid syntax\n"
     ]
    }
   ],
   "source": [
    "nilai = [100,70,90,80]\n",
    "total = 0\n",
    "for in range(0,4)\n",
    "\n",
    "#ga ketulis wakakak"
   ]
  },
  {
   "cell_type": "markdown",
   "id": "bb44bbbc",
   "metadata": {},
   "source": [
    "<h3>3. Operator Perbandingan </h3>"
   ]
  },
  {
   "cell_type": "code",
   "execution_count": 10,
   "id": "9a50295f",
   "metadata": {},
   "outputs": [
    {
     "name": "stdout",
     "output_type": "stream",
     "text": [
      "False\n",
      "True\n",
      "False\n",
      "True\n",
      "True\n",
      "True\n"
     ]
    }
   ],
   "source": [
    "y = 4\n",
    "d = 6\n",
    "\n",
    "print(y==d)\n",
    "print(y!=d)\n",
    "print(y>d)\n",
    "print(y<d)\n",
    "print(y>=4)\n",
    "print(d<=6)"
   ]
  },
  {
   "cell_type": "markdown",
   "id": "bae67fce",
   "metadata": {},
   "source": [
    "<h3>4. Operator Logika </h3>"
   ]
  },
  {
   "cell_type": "code",
   "execution_count": 16,
   "id": "5576595f",
   "metadata": {},
   "outputs": [
    {
     "name": "stdout",
     "output_type": "stream",
     "text": [
      "True\n",
      "True\n",
      "False\n"
     ]
    }
   ],
   "source": [
    "val1 = 51\n",
    "val2 = 49\n",
    "\n",
    "opr_and = val1 > val2 and val1 < 60\n",
    "opr_or = val1 == 50 or val2 >= 40\n",
    "opr_not = not(opr_and and opr_or)\n",
    "\n",
    "print(opr_and)\n",
    "print(opr_or)\n",
    "print(opr_not)"
   ]
  },
  {
   "cell_type": "markdown",
   "id": "46177a02",
   "metadata": {},
   "source": [
    "<h3>5. Operator Identitas</h3>"
   ]
  },
  {
   "cell_type": "code",
   "execution_count": 19,
   "id": "64f1203d",
   "metadata": {},
   "outputs": [
    {
     "name": "stdout",
     "output_type": "stream",
     "text": [
      "True\n",
      "False\n",
      "True\n"
     ]
    }
   ],
   "source": [
    "fruits = [\"Mangga\", \"Pisang\", \"Pepaya\"]\n",
    "fav_fruits = fruits\n",
    "your_fruits = [\"Mangga\", \"Pisang\", \"Pepaya\"]\n",
    "\n",
    "name = \"Yujin\"\n",
    "your_name = \"Yujin\"\n",
    "#diatas adalah variable single yang variablenya disatuin. ibarat satu box ada dua jenis var, soalnya box itu sendiri isinya kurang lebih sama(?)\n",
    "\n",
    "print(fav_fruits is fruits)\n",
    "print(fruits is your_fruits)\n",
    "print(name is your_name)"
   ]
  },
  {
   "cell_type": "markdown",
   "id": "d84c8616",
   "metadata": {},
   "source": [
    "<h3>6. Operator keanggotaan</h3>"
   ]
  },
  {
   "cell_type": "code",
   "execution_count": 20,
   "id": "1cbc78bf",
   "metadata": {},
   "outputs": [
    {
     "name": "stdout",
     "output_type": "stream",
     "text": [
      "True\n",
      "False\n",
      "False\n",
      "False\n"
     ]
    }
   ],
   "source": [
    "city = [\"Tokyo\", \"Toronto\", \"Sukabumi\"]\n",
    "\n",
    "print(\"Tokyo\" in city)\n",
    "print(\"Florida\" in city)\n",
    "print(\"Toronto\" not in city)\n",
    "print(\"Sukabumi\" in city and \"Toronto\" not in city)"
   ]
  },
  {
   "cell_type": "markdown",
   "id": "9e44f6cf",
   "metadata": {},
   "source": [
    "<h3>7. Operator Bitwise</h3>"
   ]
  },
  {
   "cell_type": "code",
   "execution_count": 23,
   "id": "6d99a214",
   "metadata": {},
   "outputs": [
    {
     "name": "stdout",
     "output_type": "stream",
     "text": [
      "15\n",
      "255\n",
      "240\n",
      "256\n",
      "32\n"
     ]
    }
   ],
   "source": [
    "#hanya untuk bilangan biner ya ges\n",
    "nilai1 =255\n",
    "nilai2 = 15\n",
    "\n",
    "bit_and = nilai1 & nilai2\n",
    "bit_or = nilai1 | nilai2\n",
    "bit_xor = nilai1 ^ nilai2\n",
    "\n",
    "#11111111 =>255 \n",
    "#00001111 =>15\n",
    "#-----------and\n",
    "#00001111 =>15\n",
    "#----------or\n",
    "#11111111 =255\n",
    "#----------xor\n",
    "#11110000 =>240\n",
    "\n",
    "print(bit_and)\n",
    "print(bit_or)\n",
    "print(bit_xor)\n",
    "\n",
    "#shift left\n",
    "print(128 << 1)\n",
    "#angka paling kanan menunjukkan seberapa banyak bit yang digeser \n",
    "#shift right\n",
    "print(128 >> 2)"
   ]
  }
 ],
 "metadata": {
  "kernelspec": {
   "display_name": "Python 3 (ipykernel)",
   "language": "python",
   "name": "python3"
  },
  "language_info": {
   "codemirror_mode": {
    "name": "ipython",
    "version": 3
   },
   "file_extension": ".py",
   "mimetype": "text/x-python",
   "name": "python",
   "nbconvert_exporter": "python",
   "pygments_lexer": "ipython3",
   "version": "3.9.12"
  }
 },
 "nbformat": 4,
 "nbformat_minor": 5
}
